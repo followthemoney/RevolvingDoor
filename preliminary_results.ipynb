{
 "cells": [
  {
   "cell_type": "markdown",
   "metadata": {},
   "source": [
    "# Comparing Old MEP, CoR and ECB with current lobbyist"
   ]
  },
  {
   "cell_type": "code",
   "execution_count": null,
   "metadata": {},
   "outputs": [],
   "source": [
    "#Get dataset of all MEP\n",
    "!wget 'http://www.europarl.europa.eu/RegData/publications/lmeps/1979/0001/EP-PE_LMEPS(1979)0001_XL.xls'"
   ]
  },
  {
   "cell_type": "code",
   "execution_count": 5,
   "metadata": {},
   "outputs": [],
   "source": [
    "from scripts import import_MEP\n",
    "df_MEP = import_MEP('/mnt/2To/jupyter_data/FTM/Revolving_doors/EP-PE_LMEPS(1979)0001_XL.xls')\n"
   ]
  },
  {
   "cell_type": "code",
   "execution_count": null,
   "metadata": {},
   "outputs": [],
   "source": [
    "# Get dataset of accredited lobbyist\n",
    "!wget https://transparency-register.europa.eu/odplastaccreditedxml_en \n",
    "# Turn xml in json\n",
    "!python -m xmljson '/mnt/2To/jupyter_data/FTM/Revolving_doors/odplastaccreditedxml_en.xml' -o 'accredited.json'"
   ]
  },
  {
   "cell_type": "code",
   "execution_count": 6,
   "metadata": {},
   "outputs": [],
   "source": [
    "from scripts import import_accredited\n",
    "df_accredited=import_accredited('accredited.json')"
   ]
  },
  {
   "cell_type": "code",
   "execution_count": 7,
   "metadata": {},
   "outputs": [],
   "source": [
    "# Find intersection\n",
    "import pandas as pd\n",
    "merged = pd.merge(df_MEP, df_accredited, how='inner', on=['fullname', 'fullname'])"
   ]
  },
  {
   "cell_type": "code",
   "execution_count": 8,
   "metadata": {},
   "outputs": [
    {
     "data": {
      "text/html": [
       "<div>\n",
       "<style scoped>\n",
       "    .dataframe tbody tr th:only-of-type {\n",
       "        vertical-align: middle;\n",
       "    }\n",
       "\n",
       "    .dataframe tbody tr th {\n",
       "        vertical-align: top;\n",
       "    }\n",
       "\n",
       "    .dataframe thead th {\n",
       "        text-align: right;\n",
       "    }\n",
       "</style>\n",
       "<table border=\"1\" class=\"dataframe\">\n",
       "  <thead>\n",
       "    <tr style=\"text-align: right;\">\n",
       "      <th></th>\n",
       "      <th>NOM</th>\n",
       "      <th>État membre</th>\n",
       "      <th>Parti politique national*</th>\n",
       "      <th>Groupe politique*</th>\n",
       "      <th>Mandats</th>\n",
       "      <th>fullname</th>\n",
       "      <th>firstName</th>\n",
       "      <th>lastName</th>\n",
       "      <th>orgIdentificationCode</th>\n",
       "      <th>orgName</th>\n",
       "      <th>accreditationStartDate</th>\n",
       "      <th>accreditationEndDate</th>\n",
       "      <th>orgNameInLatinAlphabet</th>\n",
       "    </tr>\n",
       "  </thead>\n",
       "  <tbody>\n",
       "    <tr>\n",
       "      <th>0</th>\n",
       "      <td>BÖGE Reimer</td>\n",
       "      <td>DE</td>\n",
       "      <td>CDU</td>\n",
       "      <td>PPE</td>\n",
       "      <td>25.07.1989</td>\n",
       "      <td>böge reimer</td>\n",
       "      <td>Reimer</td>\n",
       "      <td>Böge</td>\n",
       "      <td>55454323168-03</td>\n",
       "      <td>Arbeitsgemeinschaft Deutscher Tierzüchter e. V.</td>\n",
       "      <td>27/04/2024</td>\n",
       "      <td>31/12/2025</td>\n",
       "      <td>NaN</td>\n",
       "    </tr>\n",
       "    <tr>\n",
       "      <th>1</th>\n",
       "      <td>BONETTI Andrea</td>\n",
       "      <td>IT</td>\n",
       "      <td>DC</td>\n",
       "      <td>PPE</td>\n",
       "      <td>25.07.1989-18.07.1994</td>\n",
       "      <td>bonetti andrea</td>\n",
       "      <td>Andrea</td>\n",
       "      <td>BONETTI</td>\n",
       "      <td>974918817911-97</td>\n",
       "      <td>Chiesi Farmaceutici SpA</td>\n",
       "      <td>10/06/2024</td>\n",
       "      <td>10/06/2026</td>\n",
       "      <td>NaN</td>\n",
       "    </tr>\n",
       "    <tr>\n",
       "      <th>2</th>\n",
       "      <td>CHATZIMARKAKIS Jorgo</td>\n",
       "      <td>DE</td>\n",
       "      <td>FDP</td>\n",
       "      <td>ALDE</td>\n",
       "      <td>20.07.2004-30.06.2014</td>\n",
       "      <td>chatzimarkakis jorgo</td>\n",
       "      <td>Jorgo</td>\n",
       "      <td>Chatzimarkakis</td>\n",
       "      <td>77659588648-75</td>\n",
       "      <td>Hydrogen Europe</td>\n",
       "      <td>20/09/2023</td>\n",
       "      <td>19/09/2024</td>\n",
       "      <td>NaN</td>\n",
       "    </tr>\n",
       "    <tr>\n",
       "      <th>3</th>\n",
       "      <td>DE ANGELIS Francesco</td>\n",
       "      <td>IT</td>\n",
       "      <td>PD</td>\n",
       "      <td>S&amp;D</td>\n",
       "      <td>14.07.2009-30.06.2014</td>\n",
       "      <td>de angelis francesco</td>\n",
       "      <td>Francesco</td>\n",
       "      <td>De Angelis</td>\n",
       "      <td>718251720163-42</td>\n",
       "      <td>Flint Europe</td>\n",
       "      <td>06/10/2023</td>\n",
       "      <td>04/10/2024</td>\n",
       "      <td>NaN</td>\n",
       "    </tr>\n",
       "    <tr>\n",
       "      <th>4</th>\n",
       "      <td>DELL'ALBA Gianfranco</td>\n",
       "      <td>IT</td>\n",
       "      <td>Lista Bonino</td>\n",
       "      <td>NI</td>\n",
       "      <td>19.07.1994-19.07.2004</td>\n",
       "      <td>dell'alba gianfranco</td>\n",
       "      <td>Gianfranco</td>\n",
       "      <td>DELL'ALBA</td>\n",
       "      <td>150086650957-26</td>\n",
       "      <td>GFDA Consulting  srl</td>\n",
       "      <td>21/09/2023</td>\n",
       "      <td>20/09/2024</td>\n",
       "      <td>NaN</td>\n",
       "    </tr>\n",
       "    <tr>\n",
       "      <th>5</th>\n",
       "      <td>MAURO Mario</td>\n",
       "      <td>IT</td>\n",
       "      <td>PDL</td>\n",
       "      <td>PPE</td>\n",
       "      <td>20.07.1999-14.03.2013</td>\n",
       "      <td>mauro mario</td>\n",
       "      <td>Mario</td>\n",
       "      <td>MAURO</td>\n",
       "      <td>736538940689-06</td>\n",
       "      <td>MESEURO Srl</td>\n",
       "      <td>05/01/2024</td>\n",
       "      <td>03/01/2025</td>\n",
       "      <td>NaN</td>\n",
       "    </tr>\n",
       "    <tr>\n",
       "      <th>6</th>\n",
       "      <td>SIMON Peter</td>\n",
       "      <td>DE</td>\n",
       "      <td>SPD</td>\n",
       "      <td>S&amp;D</td>\n",
       "      <td>14.07.2009</td>\n",
       "      <td>simon peter</td>\n",
       "      <td>Peter</td>\n",
       "      <td>SIMON</td>\n",
       "      <td>8765978796-80</td>\n",
       "      <td>European Savings and Retail Banking Group</td>\n",
       "      <td>04/06/2024</td>\n",
       "      <td>01/06/2025</td>\n",
       "      <td>NaN</td>\n",
       "    </tr>\n",
       "    <tr>\n",
       "      <th>7</th>\n",
       "      <td>VIOLA Vincenzo</td>\n",
       "      <td>IT</td>\n",
       "      <td>Patto Segni</td>\n",
       "      <td>PPE</td>\n",
       "      <td>18.09.1995-19.07.1999</td>\n",
       "      <td>viola vincenzo</td>\n",
       "      <td>Vincenzo</td>\n",
       "      <td>Viola</td>\n",
       "      <td>32591134448-30</td>\n",
       "      <td>European Producers Union of Renewable Ethanol</td>\n",
       "      <td>09/07/2024</td>\n",
       "      <td>09/07/2025</td>\n",
       "      <td>NaN</td>\n",
       "    </tr>\n",
       "    <tr>\n",
       "      <th>8</th>\n",
       "      <td>VIOLA Vincenzo</td>\n",
       "      <td>IT</td>\n",
       "      <td>Patto Segni</td>\n",
       "      <td>PPE</td>\n",
       "      <td>18.09.1995-19.07.1999</td>\n",
       "      <td>viola vincenzo</td>\n",
       "      <td>Vincenzo</td>\n",
       "      <td>VIOLA</td>\n",
       "      <td>85076002321-31</td>\n",
       "      <td>The EU Vegetable Oil and Proteinmeal Industry</td>\n",
       "      <td>09/11/2023</td>\n",
       "      <td>08/11/2024</td>\n",
       "      <td>NaN</td>\n",
       "    </tr>\n",
       "  </tbody>\n",
       "</table>\n",
       "</div>"
      ],
      "text/plain": [
       "                    NOM État membre Parti politique national*  \\\n",
       "0           BÖGE Reimer          DE                       CDU   \n",
       "1        BONETTI Andrea          IT                        DC   \n",
       "2  CHATZIMARKAKIS Jorgo          DE                       FDP   \n",
       "3  DE ANGELIS Francesco          IT                        PD   \n",
       "4  DELL'ALBA Gianfranco          IT              Lista Bonino   \n",
       "5           MAURO Mario          IT                       PDL   \n",
       "6           SIMON Peter          DE                       SPD   \n",
       "7        VIOLA Vincenzo          IT               Patto Segni   \n",
       "8        VIOLA Vincenzo          IT               Patto Segni   \n",
       "\n",
       "  Groupe politique*                Mandats              fullname   firstName  \\\n",
       "0               PPE             25.07.1989           böge reimer      Reimer   \n",
       "1               PPE  25.07.1989-18.07.1994        bonetti andrea      Andrea   \n",
       "2              ALDE  20.07.2004-30.06.2014  chatzimarkakis jorgo       Jorgo   \n",
       "3               S&D  14.07.2009-30.06.2014  de angelis francesco   Francesco   \n",
       "4                NI  19.07.1994-19.07.2004  dell'alba gianfranco  Gianfranco   \n",
       "5               PPE  20.07.1999-14.03.2013           mauro mario       Mario   \n",
       "6               S&D             14.07.2009           simon peter       Peter   \n",
       "7               PPE  18.09.1995-19.07.1999        viola vincenzo    Vincenzo   \n",
       "8               PPE  18.09.1995-19.07.1999        viola vincenzo    Vincenzo   \n",
       "\n",
       "         lastName orgIdentificationCode  \\\n",
       "0            Böge        55454323168-03   \n",
       "1         BONETTI       974918817911-97   \n",
       "2  Chatzimarkakis        77659588648-75   \n",
       "3      De Angelis       718251720163-42   \n",
       "4       DELL'ALBA       150086650957-26   \n",
       "5           MAURO       736538940689-06   \n",
       "6           SIMON         8765978796-80   \n",
       "7           Viola        32591134448-30   \n",
       "8           VIOLA        85076002321-31   \n",
       "\n",
       "                                           orgName accreditationStartDate  \\\n",
       "0  Arbeitsgemeinschaft Deutscher Tierzüchter e. V.             27/04/2024   \n",
       "1                          Chiesi Farmaceutici SpA             10/06/2024   \n",
       "2                                  Hydrogen Europe             20/09/2023   \n",
       "3                                     Flint Europe             06/10/2023   \n",
       "4                             GFDA Consulting  srl             21/09/2023   \n",
       "5                                      MESEURO Srl             05/01/2024   \n",
       "6        European Savings and Retail Banking Group             04/06/2024   \n",
       "7    European Producers Union of Renewable Ethanol             09/07/2024   \n",
       "8    The EU Vegetable Oil and Proteinmeal Industry             09/11/2023   \n",
       "\n",
       "  accreditationEndDate orgNameInLatinAlphabet  \n",
       "0           31/12/2025                    NaN  \n",
       "1           10/06/2026                    NaN  \n",
       "2           19/09/2024                    NaN  \n",
       "3           04/10/2024                    NaN  \n",
       "4           20/09/2024                    NaN  \n",
       "5           03/01/2025                    NaN  \n",
       "6           01/06/2025                    NaN  \n",
       "7           09/07/2025                    NaN  \n",
       "8           08/11/2024                    NaN  "
      ]
     },
     "execution_count": 8,
     "metadata": {},
     "output_type": "execute_result"
    }
   ],
   "source": [
    "# Old MEP that are currently registered in the accredited database\n",
    "merged"
   ]
  },
  {
   "cell_type": "markdown",
   "metadata": {},
   "source": [
    "We found 9 old MEP currently registered as accredited lobbyist"
   ]
  },
  {
   "cell_type": "markdown",
   "metadata": {},
   "source": [
    "## Adding names from ECB pdf\n",
    "We run NLP name detection to extract all names of the ECB structure available online"
   ]
  },
  {
   "cell_type": "code",
   "execution_count": 2,
   "metadata": {},
   "outputs": [
    {
     "data": {
      "application/vnd.jupyter.widget-view+json": {
       "model_id": "c64cf9b526464e03a951d5d5cafcd84a",
       "version_major": 2,
       "version_minor": 0
      },
      "text/plain": [
       "  0%|          | 0/20 [00:00<?, ?it/s]"
      ]
     },
     "metadata": {},
     "output_type": "display_data"
    }
   ],
   "source": [
    "from scripts import import_ECB\n",
    "peoples_ECB = import_ECB('/mnt/2To/jupyter_data/FTM/Revolving_doors/ecb.ECB_managers.en.pdf') #Archive PDF of ECB structure "
   ]
  },
  {
   "cell_type": "code",
   "execution_count": 3,
   "metadata": {},
   "outputs": [
    {
     "data": {
      "application/vnd.jupyter.widget-view+json": {
       "model_id": "9f43b49f92a94481ad3934744545e5cf",
       "version_major": 2,
       "version_minor": 0
      },
      "text/plain": [
       "  0%|          | 0/271 [00:00<?, ?it/s]"
      ]
     },
     "metadata": {},
     "output_type": "display_data"
    }
   ],
   "source": [
    "# Generate double entries for to account for error in the order of the name for ECB\n",
    "from scripts import create_variation\n",
    "peoples_ECB = create_variation(peoples_ECB)"
   ]
  },
  {
   "cell_type": "code",
   "execution_count": 9,
   "metadata": {},
   "outputs": [
    {
     "data": {
      "text/html": [
       "<div>\n",
       "<style scoped>\n",
       "    .dataframe tbody tr th:only-of-type {\n",
       "        vertical-align: middle;\n",
       "    }\n",
       "\n",
       "    .dataframe tbody tr th {\n",
       "        vertical-align: top;\n",
       "    }\n",
       "\n",
       "    .dataframe thead th {\n",
       "        text-align: right;\n",
       "    }\n",
       "</style>\n",
       "<table border=\"1\" class=\"dataframe\">\n",
       "  <thead>\n",
       "    <tr style=\"text-align: right;\">\n",
       "      <th></th>\n",
       "      <th>firstName</th>\n",
       "      <th>lastName</th>\n",
       "      <th>orgIdentificationCode</th>\n",
       "      <th>orgName</th>\n",
       "      <th>accreditationStartDate</th>\n",
       "      <th>accreditationEndDate</th>\n",
       "      <th>orgNameInLatinAlphabet</th>\n",
       "      <th>fullname</th>\n",
       "    </tr>\n",
       "  </thead>\n",
       "  <tbody>\n",
       "  </tbody>\n",
       "</table>\n",
       "</div>"
      ],
      "text/plain": [
       "Empty DataFrame\n",
       "Columns: [firstName, lastName, orgIdentificationCode, orgName, accreditationStartDate, accreditationEndDate, orgNameInLatinAlphabet, fullname]\n",
       "Index: []"
      ]
     },
     "execution_count": 9,
     "metadata": {},
     "output_type": "execute_result"
    }
   ],
   "source": [
    "df_accredited[df_accredited['fullname'].isin(peoples_ECB)]"
   ]
  },
  {
   "cell_type": "markdown",
   "metadata": {},
   "source": [
    "We find no intersection between old ECB staff and accredited lobbyist"
   ]
  },
  {
   "cell_type": "markdown",
   "metadata": {},
   "source": [
    "# Find lobbyist in outgoing CoR "
   ]
  },
  {
   "cell_type": "code",
   "execution_count": 1,
   "metadata": {},
   "outputs": [
    {
     "name": "stdout",
     "output_type": "stream",
     "text": [
      "Element text is: Outgoing\n"
     ]
    }
   ],
   "source": [
    "from selenium_CoR import get_outgoing_CoR\n",
    "\n",
    "CoR_people = get_outgoing_CoR() #Scraper getting data from https://memberspage.cor.europa.eu/members"
   ]
  },
  {
   "cell_type": "code",
   "execution_count": 38,
   "metadata": {},
   "outputs": [
    {
     "data": {
      "text/html": [
       "<div>\n",
       "<style scoped>\n",
       "    .dataframe tbody tr th:only-of-type {\n",
       "        vertical-align: middle;\n",
       "    }\n",
       "\n",
       "    .dataframe tbody tr th {\n",
       "        vertical-align: top;\n",
       "    }\n",
       "\n",
       "    .dataframe thead th {\n",
       "        text-align: right;\n",
       "    }\n",
       "</style>\n",
       "<table border=\"1\" class=\"dataframe\">\n",
       "  <thead>\n",
       "    <tr style=\"text-align: right;\">\n",
       "      <th></th>\n",
       "      <th>firstName</th>\n",
       "      <th>lastName</th>\n",
       "      <th>orgIdentificationCode</th>\n",
       "      <th>orgName</th>\n",
       "      <th>accreditationStartDate</th>\n",
       "      <th>accreditationEndDate</th>\n",
       "      <th>orgNameInLatinAlphabet</th>\n",
       "      <th>fullname</th>\n",
       "    </tr>\n",
       "  </thead>\n",
       "  <tbody>\n",
       "    <tr>\n",
       "      <th>871</th>\n",
       "      <td>Guido</td>\n",
       "      <td>Castelli</td>\n",
       "      <td>098690717154-62</td>\n",
       "      <td>Università Cattolica del Sacro Cuore</td>\n",
       "      <td>24/05/2024</td>\n",
       "      <td>24/05/2026</td>\n",
       "      <td>NaN</td>\n",
       "      <td>castelli guido</td>\n",
       "    </tr>\n",
       "  </tbody>\n",
       "</table>\n",
       "</div>"
      ],
      "text/plain": [
       "    firstName  lastName orgIdentificationCode  \\\n",
       "871     Guido  Castelli       098690717154-62   \n",
       "\n",
       "                                  orgName accreditationStartDate  \\\n",
       "871  Università Cattolica del Sacro Cuore             24/05/2024   \n",
       "\n",
       "    accreditationEndDate orgNameInLatinAlphabet        fullname  \n",
       "871           24/05/2026                    NaN  castelli guido  "
      ]
     },
     "execution_count": 38,
     "metadata": {},
     "output_type": "execute_result"
    }
   ],
   "source": [
    "df_accredited[df_accredited['fullname'].isin(CoR_people)]"
   ]
  },
  {
   "cell_type": "markdown",
   "metadata": {},
   "source": [
    "Only one accredited lobbyist in the outgoing CoR webpage"
   ]
  }
 ],
 "metadata": {
  "kernelspec": {
   "display_name": ".venv",
   "language": "python",
   "name": "python3"
  },
  "language_info": {
   "codemirror_mode": {
    "name": "ipython",
    "version": 3
   },
   "file_extension": ".py",
   "mimetype": "text/x-python",
   "name": "python",
   "nbconvert_exporter": "python",
   "pygments_lexer": "ipython3",
   "version": "3.11.2"
  }
 },
 "nbformat": 4,
 "nbformat_minor": 2
}
