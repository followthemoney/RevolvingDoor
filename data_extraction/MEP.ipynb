{
 "cells": [
  {
   "cell_type": "markdown",
   "metadata": {},
   "source": [
    "# Getting the already list data from parltrack"
   ]
  },
  {
   "cell_type": "markdown",
   "metadata": {},
   "source": [
    "Download file and uncompress using lzip https://parltrack.org/dumps/ep_meps.json.lz then transform to json"
   ]
  },
  {
   "cell_type": "markdown",
   "metadata": {},
   "source": [
    "Create the dataset"
   ]
  },
  {
   "cell_type": "code",
   "execution_count": 149,
   "metadata": {},
   "outputs": [],
   "source": [
    "import pandas as pd\n",
    "df = pd.read_json('my_file.json', orient='records')"
   ]
  },
  {
   "cell_type": "markdown",
   "metadata": {},
   "source": [
    "Creating a tag to know which MEP has not been re-elected after the 9th term"
   ]
  },
  {
   "cell_type": "code",
   "execution_count": 150,
   "metadata": {},
   "outputs": [
    {
     "name": "stdout",
     "output_type": "stream",
     "text": [
      "MEP 13 has a problem in the datastructure\n",
      "MEP 1598 has a problem in the datastructure\n",
      "MEP 4584 has a problem in the datastructure\n"
     ]
    }
   ],
   "source": [
    "df['new_unemployed'] = False\n",
    "for i in range(len(df.index)):\n",
    "    #print(f'{i} - {df.Constituencies[i]}')\n",
    "    if (type(df.Constituencies[i]) is not list) or (df.Constituencies[i][-1] is None):\n",
    "        print(f'MEP {i} has a problem in the datastructure')\n",
    "    elif df.Constituencies[i][-1]['term']==9:\n",
    "        df.at[i,'new_unemployed'] = True"
   ]
  },
  {
   "cell_type": "markdown",
   "metadata": {},
   "source": [
    "While we are here, looking a a few things\n",
    "\n",
    "Of all the MEP, 11.8% of them ended at their 9th term"
   ]
  },
  {
   "cell_type": "code",
   "execution_count": 151,
   "metadata": {},
   "outputs": [
    {
     "data": {
      "text/plain": [
       "<Axes: ylabel='count'>"
      ]
     },
     "execution_count": 151,
     "metadata": {},
     "output_type": "execute_result"
    },
    {
     "data": {
      "image/png": "[encoded data removed]",
      "text/plain": [
       "<Figure size 640x480 with 1 Axes>"
      ]
     },
     "metadata": {},
     "output_type": "display_data"
    }
   ],
   "source": [
    "df['new_unemployed'].value_counts().plot.pie(autopct='%1.1f%%', labels=['Employed', 'Unemployed'])"
   ]
  },
  {
   "cell_type": "code",
   "execution_count": 152,
   "metadata": {},
   "outputs": [
    {
     "name": "stdout",
     "output_type": "stream",
     "text": [
      "MEP 13 has a problem in the datastructure\n"
     ]
    },
    {
     "name": "stdout",
     "output_type": "stream",
     "text": [
      "MEP 1598 has a problem in the datastructure\n",
      "MEP 4584 has a problem in the datastructure\n"
     ]
    }
   ],
   "source": [
    "df['reconducted'] = False\n",
    "for i in range(len(df.index)):\n",
    "    #print(f'{i} - {df.Constituencies[i]}')\n",
    "    if (type(df.Constituencies[i]) is not list) or (df.Constituencies[i][-1] is None):\n",
    "        print(f'MEP {i} has a problem in the datastructure')\n",
    "    elif (len(df.Constituencies[i])<2):\n",
    "        pass\n",
    "    elif (df.Constituencies[i][-1]['term'] == 10):\n",
    "        for j in range(len(df.Constituencies[i])):\n",
    "            if df.Constituencies[i][j]['term'] == 9:\n",
    "                df.at[i,'reconducted'] = True\n",
    "                pass"
   ]
  },
  {
   "cell_type": "code",
   "execution_count": 153,
   "metadata": {},
   "outputs": [
    {
     "name": "stdout",
     "output_type": "stream",
     "text": [
      "About 61.78% of MEP form the 9th term lost their job\n"
     ]
    }
   ],
   "source": [
    "print(f'About {len(df[(df.new_unemployed == True)])/(len(df[(df.new_unemployed == True)])+len(df[df.reconducted==True]))*100:.2f}% of MEP form the 9th term lost their job')"
   ]
  },
  {
   "cell_type": "markdown",
   "metadata": {},
   "source": [
    "Adding the twitter links from unregistered MEP twitter account"
   ]
  },
  {
   "cell_type": "code",
   "execution_count": 154,
   "metadata": {},
   "outputs": [],
   "source": [
    "df2 = pd.read_excel('/mnt/2To/jupyter_data/FTM/Revolving_doors/input_tt.xlsx')"
   ]
  },
  {
   "cell_type": "code",
   "execution_count": 155,
   "metadata": {},
   "outputs": [],
   "source": [
    "import numpy as np\n",
    "# Transforming the values of the original df and adding the new usernames\n",
    "for UserID in df[(df.new_unemployed == True) & (df.Twitter.notnull())]['UserID']:\n",
    "    df.loc[df.UserID == UserID,'Twitter']=df[df.UserID == UserID].Twitter.values[0][0]\n",
    "for UserID in df[(df.new_unemployed == True) & (df.Twitter.isnull())]['UserID']:\n",
    "    if df2[df2.UserID == UserID]['twitter'].values[0] is not np.nan:\n",
    "        df.loc[df.UserID == UserID,'Twitter'] = df2[df2.UserID == UserID]['twitter'].values[0]"
   ]
  },
  {
   "cell_type": "code",
   "execution_count": 156,
   "metadata": {},
   "outputs": [],
   "source": [
    "import re\n",
    "# Setting a regex to capture the username not the url\n",
    "def extract_username(url):\n",
    "    pattern = \"(?:https?:\\/\\/)?(?:www\\.)?(?:twitter\\.com|x\\.com)\\/([A-Za-z0-9_]+)\"\n",
    "    match = re.search(pattern, url)\n",
    "    if match:\n",
    "        return match.group(1) \n",
    "    else:\n",
    "        return None\n"
   ]
  },
  {
   "cell_type": "code",
   "execution_count": 157,
   "metadata": {},
   "outputs": [],
   "source": [
    "df['Twitter_username'] = df[(df.new_unemployed == True) & (df.Twitter.notnull())].Twitter.apply(lambda x: extract_username(x))"
   ]
  },
  {
   "cell_type": "code",
   "execution_count": 180,
   "metadata": {},
   "outputs": [],
   "source": [
    "# Saving this in a pickle\n",
    "df.to_pickle('MEP-w-tt.pkl')"
   ]
  }
 ],
 "metadata": {
  "kernelspec": {
   "display_name": ".venv",
   "language": "python",
   "name": "python3"
  },
  "language_info": {
   "codemirror_mode": {
    "name": "ipython",
    "version": 3
   },
   "file_extension": ".py",
   "mimetype": "text/x-python",
   "name": "python",
   "nbconvert_exporter": "python",
   "pygments_lexer": "ipython3",
   "version": "3.11.2"
  }
 },
 "nbformat": 4,
 "nbformat_minor": 2
}
